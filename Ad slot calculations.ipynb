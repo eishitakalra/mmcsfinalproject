{
 "cells": [
  {
   "cell_type": "code",
   "execution_count": 1,
   "id": "2f26e503-7f10-4262-9257-92e992869dc7",
   "metadata": {},
   "outputs": [],
   "source": [
    "# Import packages and read-in files\n",
    "\n",
    "import numpy as np\n",
    "import pandas as pd\n",
    "import xpress as xp\n",
    "from datetime import datetime, timedelta\n",
    "import os\n",
    "import math \n",
    "\n",
    "# Read in files using the explicitly defined base path\n",
    "ch_0_conversion_rates = pd.read_csv('channel_0_conversion_rates.csv')\n",
    "ch_0_schedule = pd.read_csv('channel_0_schedule.csv')\n",
    "ch_1_conversion_rates = pd.read_csv('channel_1_conversion_rates.csv')\n",
    "ch_1_schedule = pd.read_csv('channel_1_schedule.csv')\n",
    "ch_2_conversion_rates = pd.read_csv('channel_2_conversion_rates.csv')\n",
    "ch_2_schedule = pd.read_csv('channel_2_schedule.csv')\n",
    "ch_A_schedule = pd.read_csv('channel_A_schedule.csv')\n",
    "movies_df = pd.read_csv('movie_database.csv')"
   ]
  },
  {
   "cell_type": "code",
   "execution_count": 2,
   "id": "8357fd94-ff2f-4a68-ab81-439e662a5d22",
   "metadata": {},
   "outputs": [],
   "source": [
    "# To use right xpress and get rid of unnecessary error codes\n",
    "xp.init('C:/xpressmp/bin/xpauth.xpr')\n",
    "pd.options.mode.copy_on_write = True"
   ]
  },
  {
   "cell_type": "code",
   "execution_count": 3,
   "id": "8bb9b34b-43fa-4b4a-9b7a-7e78570ac191",
   "metadata": {},
   "outputs": [],
   "source": [
    "# FORMATING\n",
    "# Convert 'Date-Time' columns to datetime format\n",
    "date_cols = ['Date']\n",
    "\n",
    "for df in [ch_0_conversion_rates, ch_0_schedule, ch_1_conversion_rates, ch_1_schedule,\n",
    "           ch_2_conversion_rates, ch_2_schedule, ch_A_schedule]:\n",
    "    df['Date'] = pd.to_datetime(df['Unnamed: 0'])\n",
    "    df.set_index('Date', inplace=True)\n",
    "    df.drop('Unnamed: 0', axis=1, inplace = True)\n",
    "   \n",
    "\n",
    "# Convert 'Release Date' in movie_database to datetime\n",
    "movies_df['release_date'] = pd.to_datetime(movies_df['release_date'])\n",
    "\n",
    "# Fill missing values if necessary\n",
    "movies_df.fillna(0, inplace=True)"
   ]
  },
  {
   "cell_type": "code",
   "execution_count": 4,
   "id": "63887528-947d-4fea-a4d6-7081d7430520",
   "metadata": {},
   "outputs": [
    {
     "name": "stderr",
     "output_type": "stream",
     "text": [
      "C:\\Users\\Elie\\AppData\\Local\\Temp\\ipykernel_1500\\3156684494.py:5: FutureWarning: 'T' is deprecated and will be removed in a future version, please use 'min' instead.\n",
      "  ch_A_schedule_30min = ch_A_schedule.resample('30T').mean().reset_index()\n"
     ]
    }
   ],
   "source": [
    "# Ch A 30 min compressing\n",
    "from datetime import time\n",
    "\n",
    "# Resample to 30-minute intervals (use mean of groups)\n",
    "ch_A_schedule_30min = ch_A_schedule.resample('30T').mean().reset_index()\n",
    "\n",
    "# Define start and end times for filtering\n",
    "daily_start_time = time(7, 0)  # 7:00 AM\n",
    "daily_end_time = time(23, 55)  # 11:55 PM\n",
    "\n",
    "# Filter rows to include only time slots within the desired range \n",
    "ch_A_schedule_30min['time'] = ch_A_schedule_30min['Date'].dt.time\n",
    "ch_A_schedule_30min = ch_A_schedule_30min[\n",
    "    (ch_A_schedule_30min['time'] >= daily_start_time) &\n",
    "    (ch_A_schedule_30min['time'] <= daily_end_time)\n",
    "].drop(columns=['time'])\n",
    "ch_A_schedule_30min.reset_index(inplace = True)\n",
    "ch_A_schedule_30min.drop('index', axis = 1,inplace = True)"
   ]
  },
  {
   "cell_type": "code",
   "execution_count": 5,
   "id": "fe291d16-9418-4ca9-94b7-7bb6342c72b0",
   "metadata": {},
   "outputs": [
    {
     "name": "stderr",
     "output_type": "stream",
     "text": [
      "C:\\Users\\Elie\\AppData\\Local\\Temp\\ipykernel_1500\\3603604758.py:7: FutureWarning: 'T' is deprecated and will be removed in a future version, please use 'min' instead.\n",
      "  ch_0_schedule_30min = ch_0.resample('30T').mean().reset_index()\n"
     ]
    }
   ],
   "source": [
    "# Ch 0 30 min compressing\n",
    "from datetime import time\n",
    "ch_0 = pd.DataFrame(ch_0_schedule['ad_slot_price'])\n",
    "\n",
    "\n",
    "# Resample to 30-minute intervals (use mean of groups)\n",
    "ch_0_schedule_30min = ch_0.resample('30T').mean().reset_index()\n",
    "\n",
    "# Define start and end times for filtering\n",
    "daily_start_time = time(7, 0)  # 7:00 AM\n",
    "daily_end_time = time(23, 55)  # 11:55 PM\n",
    "\n",
    "# Filter rows to include only time slots within the desired range \n",
    "ch_0_schedule_30min['time'] = ch_0_schedule_30min['Date'].dt.time\n",
    "ch_0_schedule_30min = ch_0_schedule_30min[\n",
    "    (ch_0_schedule_30min['time'] >= daily_start_time) &\n",
    "    (ch_0_schedule_30min['time'] <= daily_end_time)\n",
    "].drop(columns=['time'])\n",
    "ch_0_schedule_30min.reset_index(inplace = True)\n",
    "ch_0_schedule_30min.drop('index', axis = 1,inplace = True)"
   ]
  },
  {
   "cell_type": "code",
   "execution_count": 6,
   "id": "44fd8ea3-3c74-432e-b187-b43a0770784c",
   "metadata": {},
   "outputs": [
    {
     "name": "stderr",
     "output_type": "stream",
     "text": [
      "C:\\Users\\Elie\\AppData\\Local\\Temp\\ipykernel_1500\\2899875544.py:7: FutureWarning: 'T' is deprecated and will be removed in a future version, please use 'min' instead.\n",
      "  ch_1_schedule_30min = ch_1.resample('30T').mean().reset_index()\n"
     ]
    }
   ],
   "source": [
    "# Ch 1 30 min compressing\n",
    "from datetime import time\n",
    "ch_1 = pd.DataFrame(ch_1_schedule['ad_slot_price'])\n",
    "\n",
    "\n",
    "# Resample to 30-minute intervals (use mean of groups)\n",
    "ch_1_schedule_30min = ch_1.resample('30T').mean().reset_index()\n",
    "\n",
    "# Define start and end times for filtering\n",
    "daily_start_time = time(7, 0)  # 7:00 AM\n",
    "daily_end_time = time(23, 55)  # 11:55 PM\n",
    "\n",
    "# Filter rows to include only time slots within the desired range \n",
    "ch_1_schedule_30min['time'] = ch_1_schedule_30min['Date'].dt.time\n",
    "ch_1_schedule_30min = ch_1_schedule_30min[\n",
    "    (ch_1_schedule_30min['time'] >= daily_start_time) &\n",
    "    (ch_1_schedule_30min['time'] <= daily_end_time)\n",
    "].drop(columns=['time'])\n",
    "ch_1_schedule_30min.reset_index(inplace = True)\n",
    "ch_1_schedule_30min.drop('index', axis = 1,inplace = True)"
   ]
  },
  {
   "cell_type": "code",
   "execution_count": 7,
   "id": "b464c93c-4eea-4b64-9fda-343fd613141a",
   "metadata": {},
   "outputs": [
    {
     "name": "stderr",
     "output_type": "stream",
     "text": [
      "C:\\Users\\Elie\\AppData\\Local\\Temp\\ipykernel_1500\\1338967550.py:7: FutureWarning: 'T' is deprecated and will be removed in a future version, please use 'min' instead.\n",
      "  ch_2_schedule_30min = ch_2.resample('30T').mean().reset_index()\n"
     ]
    }
   ],
   "source": [
    "# Ch 2 30 min compressing\n",
    "from datetime import time\n",
    "ch_2 = pd.DataFrame(ch_2_schedule['ad_slot_price'])\n",
    "\n",
    "\n",
    "# Resample to 30-minute intervals (use mean of groups)\n",
    "ch_2_schedule_30min = ch_2.resample('30T').mean().reset_index()\n",
    "\n",
    "# Define start and end times for filtering\n",
    "daily_start_time = time(7, 0)  # 7:00 AM\n",
    "daily_end_time = time(23, 55)  # 11:55 PM\n",
    "\n",
    "# Filter rows to include only time slots within the desired range \n",
    "ch_2_schedule_30min['time'] = ch_2_schedule_30min['Date'].dt.time\n",
    "ch_2_schedule_30min = ch_2_schedule_30min[\n",
    "    (ch_2_schedule_30min['time'] >= daily_start_time) &\n",
    "    (ch_2_schedule_30min['time'] <= daily_end_time)\n",
    "].drop(columns=['time'])\n",
    "\n",
    "ch_2_schedule_30min.reset_index(inplace = True)\n",
    "ch_2_schedule_30min.drop('index', axis = 1,inplace = True)"
   ]
  },
  {
   "cell_type": "code",
   "execution_count": 8,
   "id": "5e824783-37bf-4353-a488-52a529e31957",
   "metadata": {},
   "outputs": [
    {
     "name": "stderr",
     "output_type": "stream",
     "text": [
      "C:\\Users\\Elie\\AppData\\Local\\Temp\\ipykernel_1500\\469590517.py:9: FutureWarning: The behavior of DataFrame.idxmax with all-NA values, or any-NA and skipna=False, is deprecated. In a future version this will raise ValueError\n",
      "  all_slots['max ch #'] = all_slots[['0','1','2']].idxmax(axis=1)\n",
      "C:\\Users\\Elie\\AppData\\Local\\Temp\\ipykernel_1500\\469590517.py:10: FutureWarning: The behavior of DataFrame.idxmin with all-NA values, or any-NA and skipna=False, is deprecated. In a future version this will raise ValueError\n",
      "  all_slots['min ch #'] = all_slots[['0','1','2']].idxmin(axis=1)\n"
     ]
    },
    {
     "data": {
      "text/html": [
       "<div>\n",
       "<style scoped>\n",
       "    .dataframe tbody tr th:only-of-type {\n",
       "        vertical-align: middle;\n",
       "    }\n",
       "\n",
       "    .dataframe tbody tr th {\n",
       "        vertical-align: top;\n",
       "    }\n",
       "\n",
       "    .dataframe thead th {\n",
       "        text-align: right;\n",
       "    }\n",
       "</style>\n",
       "<table border=\"1\" class=\"dataframe\">\n",
       "  <thead>\n",
       "    <tr style=\"text-align: right;\">\n",
       "      <th></th>\n",
       "      <th>0</th>\n",
       "      <th>1</th>\n",
       "      <th>2</th>\n",
       "      <th>our_sell_price</th>\n",
       "      <th>max</th>\n",
       "      <th>min</th>\n",
       "      <th>max ch #</th>\n",
       "      <th>min ch #</th>\n",
       "      <th>smallest_profit</th>\n",
       "      <th>greatest_profit</th>\n",
       "    </tr>\n",
       "  </thead>\n",
       "  <tbody>\n",
       "    <tr>\n",
       "      <th>0</th>\n",
       "      <td>56995.17</td>\n",
       "      <td>25458.66</td>\n",
       "      <td>365283.35</td>\n",
       "      <td>149245.726667</td>\n",
       "      <td>365283.35</td>\n",
       "      <td>25458.66</td>\n",
       "      <td>2</td>\n",
       "      <td>1</td>\n",
       "      <td>-216037.623333</td>\n",
       "      <td>123787.066667</td>\n",
       "    </tr>\n",
       "    <tr>\n",
       "      <th>1</th>\n",
       "      <td>56995.17</td>\n",
       "      <td>25458.66</td>\n",
       "      <td>365283.35</td>\n",
       "      <td>149245.726667</td>\n",
       "      <td>365283.35</td>\n",
       "      <td>25458.66</td>\n",
       "      <td>2</td>\n",
       "      <td>1</td>\n",
       "      <td>-216037.623333</td>\n",
       "      <td>123787.066667</td>\n",
       "    </tr>\n",
       "    <tr>\n",
       "      <th>2</th>\n",
       "      <td>25479.06</td>\n",
       "      <td>16629.10</td>\n",
       "      <td>365283.35</td>\n",
       "      <td>135797.170000</td>\n",
       "      <td>365283.35</td>\n",
       "      <td>16629.10</td>\n",
       "      <td>2</td>\n",
       "      <td>1</td>\n",
       "      <td>-229486.180000</td>\n",
       "      <td>119168.070000</td>\n",
       "    </tr>\n",
       "    <tr>\n",
       "      <th>3</th>\n",
       "      <td>25479.06</td>\n",
       "      <td>16629.10</td>\n",
       "      <td>365283.35</td>\n",
       "      <td>135797.170000</td>\n",
       "      <td>365283.35</td>\n",
       "      <td>16629.10</td>\n",
       "      <td>2</td>\n",
       "      <td>1</td>\n",
       "      <td>-229486.180000</td>\n",
       "      <td>119168.070000</td>\n",
       "    </tr>\n",
       "    <tr>\n",
       "      <th>4</th>\n",
       "      <td>25479.06</td>\n",
       "      <td>16629.10</td>\n",
       "      <td>17700.00</td>\n",
       "      <td>19936.053333</td>\n",
       "      <td>25479.06</td>\n",
       "      <td>16629.10</td>\n",
       "      <td>0</td>\n",
       "      <td>1</td>\n",
       "      <td>-5543.006667</td>\n",
       "      <td>3306.953333</td>\n",
       "    </tr>\n",
       "  </tbody>\n",
       "</table>\n",
       "</div>"
      ],
      "text/plain": [
       "          0         1          2  our_sell_price        max       min  \\\n",
       "0  56995.17  25458.66  365283.35   149245.726667  365283.35  25458.66   \n",
       "1  56995.17  25458.66  365283.35   149245.726667  365283.35  25458.66   \n",
       "2  25479.06  16629.10  365283.35   135797.170000  365283.35  16629.10   \n",
       "3  25479.06  16629.10  365283.35   135797.170000  365283.35  16629.10   \n",
       "4  25479.06  16629.10   17700.00    19936.053333   25479.06  16629.10   \n",
       "\n",
       "  max ch # min ch #  smallest_profit  greatest_profit  \n",
       "0        2        1   -216037.623333    123787.066667  \n",
       "1        2        1   -216037.623333    123787.066667  \n",
       "2        2        1   -229486.180000    119168.070000  \n",
       "3        2        1   -229486.180000    119168.070000  \n",
       "4        0        1     -5543.006667      3306.953333  "
      ]
     },
     "execution_count": 8,
     "metadata": {},
     "output_type": "execute_result"
    }
   ],
   "source": [
    "all_slots = pd.DataFrame()\n",
    "all_slots['0'] = ch_0_schedule_30min['ad_slot_price']\n",
    "all_slots['1'] = ch_1_schedule_30min['ad_slot_price']\n",
    "all_slots['2'] = ch_2_schedule_30min['ad_slot_price']\n",
    "# all_slots['avg'] = ch_A_schedule_30min['ad_cost_we_charge']\n",
    "all_slots['our_sell_price'] = all_slots.mean(axis = 1)\n",
    "all_slots['max'] = all_slots.max(axis=1)\n",
    "all_slots['min'] = all_slots.min(axis=1)\n",
    "all_slots['max ch #'] = all_slots[['0','1','2']].idxmax(axis=1)\n",
    "all_slots['min ch #'] = all_slots[['0','1','2']].idxmin(axis=1)\n",
    "\n",
    "all_slots['smallest_profit'] = all_slots['our_sell_price'] - (all_slots['max'])\n",
    "all_slots['greatest_profit'] = all_slots['our_sell_price'] - (all_slots['min'])\n",
    "\n",
    "\n",
    "all_slots.head()"
   ]
  },
  {
   "cell_type": "code",
   "execution_count": 9,
   "id": "841f6363-7d2a-46f5-a28d-7ed52bb25a68",
   "metadata": {
    "collapsed": true,
    "jupyter": {
     "outputs_hidden": true
    }
   },
   "outputs": [
    {
     "name": "stdout",
     "output_type": "stream",
     "text": [
      "                    Date  children_baseline_view_count  \\\n",
      "22   2024-10-01 18:00:00                      0.026619   \n",
      "23   2024-10-01 18:30:00                      0.022203   \n",
      "24   2024-10-01 19:00:00                      0.017404   \n",
      "25   2024-10-01 19:30:00                      0.012819   \n",
      "26   2024-10-01 20:00:00                      0.008873   \n",
      "...                  ...                           ...   \n",
      "2847 2024-12-23 19:30:00                      0.012819   \n",
      "2848 2024-12-23 20:00:00                      0.008873   \n",
      "2849 2024-12-23 20:30:00                      0.005771   \n",
      "2850 2024-12-23 21:00:00                      0.003528   \n",
      "2851 2024-12-23 21:30:00                      0.002026   \n",
      "\n",
      "      adults_baseline_view_count  retirees_baseline_view_count  \\\n",
      "22                      0.118745                      0.034331   \n",
      "23                      0.119810                      0.031795   \n",
      "24                      0.119892                      0.028991   \n",
      "25                      0.118990                      0.026025   \n",
      "26                      0.117127                      0.023000   \n",
      "...                          ...                           ...   \n",
      "2847                    0.118990                      0.026025   \n",
      "2848                    0.117127                      0.023000   \n",
      "2849                    0.114349                      0.020013   \n",
      "2850                    0.110724                      0.017144   \n",
      "2851                    0.106340                      0.014459   \n",
      "\n",
      "      prime_time_factor  \n",
      "22                  1.5  \n",
      "23                  1.5  \n",
      "24                  1.5  \n",
      "25                  1.5  \n",
      "26                  1.5  \n",
      "...                 ...  \n",
      "2847                1.5  \n",
      "2848                1.5  \n",
      "2849                1.5  \n",
      "2850                1.5  \n",
      "2851                1.5  \n",
      "\n",
      "[680 rows x 5 columns]\n"
     ]
    }
   ],
   "source": [
    "# get specifically prime time ad slots of our channel_A \n",
    "prime_time_df= pd.DataFrame(data = ch_A_schedule_30min.iloc[22:30,:])\n",
    "for k in range(84):\n",
    "    rest = ch_A_schedule_30min.iloc[22+(34*k):30+(34*k),:]\n",
    "    prime_time_df = pd.concat([prime_time_df,rest])\n",
    "print(prime_time_df)"
   ]
  },
  {
   "cell_type": "code",
   "execution_count": 10,
   "id": "66e6e0f1-195b-49bb-9230-c9e238ba6639",
   "metadata": {
    "scrolled": true
   },
   "outputs": [
    {
     "name": "stdout",
     "output_type": "stream",
     "text": [
      "              0          1          2  our_sell_price        max        min  \\\n",
      "22    265176.05  645960.20   69680.57   326938.940000  645960.20   69680.57   \n",
      "23    265176.05  186482.72        NaN   225829.385000  265176.05  186482.72   \n",
      "24     80119.92  186482.72   46807.66   104470.100000  186482.72   46807.66   \n",
      "25     80119.92  186482.72   46807.66   104470.100000  186482.72   46807.66   \n",
      "26     80119.92   63464.69   46807.66    63464.090000   80119.92   46807.66   \n",
      "...         ...        ...        ...             ...        ...        ...   \n",
      "2847  112642.91  133638.55  220948.82   155743.426667  220948.82  112642.91   \n",
      "2848  112642.91  133638.55   50364.70    98882.053333  133638.55   50364.70   \n",
      "2849  112642.91   15957.00   50364.70    59654.870000  112642.91   15957.00   \n",
      "2850   18272.40   15957.00   50364.70    28198.033333   50364.70   15957.00   \n",
      "2851   18272.40   15957.00   50364.70    28198.033333   50364.70   15957.00   \n",
      "\n",
      "     max ch # min ch #  smallest_profit  greatest_profit  \n",
      "22          1        2   -319021.260000    257258.370000  \n",
      "23          0        1    -39346.665000     39346.665000  \n",
      "24          1        2    -82012.620000     57662.440000  \n",
      "25          1        2    -82012.620000     57662.440000  \n",
      "26          0        2    -16655.830000     16656.430000  \n",
      "...       ...      ...              ...              ...  \n",
      "2847        2        0    -65205.393333     43100.516667  \n",
      "2848        1        2    -34756.496667     48517.353333  \n",
      "2849        0        1    -52988.040000     43697.870000  \n",
      "2850        2        1    -22166.666667     12241.033333  \n",
      "2851        2        1    -22166.666667     12241.033333  \n",
      "\n",
      "[680 rows x 10 columns]\n"
     ]
    }
   ],
   "source": [
    "# get ad info for prime time slots\n",
    "prime_ad_slots= pd.DataFrame(data = all_slots.iloc[22:30,:])\n",
    "for k in range(84):\n",
    "    rem = all_slots.iloc[22+(34*k):30+(34*k),:]\n",
    "    prime_ad_slots = pd.concat([prime_ad_slots,rem])\n",
    "print(prime_ad_slots)"
   ]
  }
 ],
 "metadata": {
  "kernelspec": {
   "display_name": "Python 3 (ipykernel)",
   "language": "python",
   "name": "python3"
  },
  "language_info": {
   "codemirror_mode": {
    "name": "ipython",
    "version": 3
   },
   "file_extension": ".py",
   "mimetype": "text/x-python",
   "name": "python",
   "nbconvert_exporter": "python",
   "pygments_lexer": "ipython3",
   "version": "3.12.7"
  }
 },
 "nbformat": 4,
 "nbformat_minor": 5
}
