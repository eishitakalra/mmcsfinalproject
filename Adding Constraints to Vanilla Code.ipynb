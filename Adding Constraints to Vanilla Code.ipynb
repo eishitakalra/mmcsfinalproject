{
 "cells": [
  {
   "cell_type": "code",
   "execution_count": 446,
   "id": "28949ef0-7846-495d-b63c-ee18cddfd9e9",
   "metadata": {},
   "outputs": [],
   "source": [
    "# Import packages and read-in files\n",
    "\n",
    "import numpy as np\n",
    "import pandas as pd\n",
    "import xpress as xp\n",
    "from datetime import datetime, timedelta\n",
    "import os\n",
    "import math \n",
    "\n",
    "# Read in files using the explicitly defined base path\n",
    "ch_0_conversion_rates = pd.read_csv('channel_0_conversion_rates.csv')\n",
    "ch_0_schedule = pd.read_csv('channel_0_schedule.csv')\n",
    "ch_1_conversion_rates = pd.read_csv('channel_1_conversion_rates.csv')\n",
    "ch_1_schedule = pd.read_csv('channel_1_schedule.csv')\n",
    "ch_2_conversion_rates = pd.read_csv('channel_2_conversion_rates.csv')\n",
    "ch_2_schedule = pd.read_csv('channel_2_schedule.csv')\n",
    "ch_A_schedule = pd.read_csv('channel_A_schedule.csv')\n",
    "movies_df = pd.read_csv('movie_database.csv')"
   ]
  },
  {
   "cell_type": "code",
   "execution_count": 447,
   "id": "ff9d0671-dfcf-41ba-80b7-c67ea275a0c0",
   "metadata": {},
   "outputs": [
    {
     "data": {
      "text/plain": [
       "<contextlib._GeneratorContextManager at 0x19206d8f800>"
      ]
     },
     "execution_count": 447,
     "metadata": {},
     "output_type": "execute_result"
    }
   ],
   "source": [
    "# To use right xpress and get rid of unnecessary error codes\n",
    "xp.init('C:/xpressmp/bin/xpauth.xpr')"
   ]
  },
  {
   "cell_type": "code",
   "execution_count": 448,
   "id": "2adb2fce-83ba-4712-8e40-8bd236868bfe",
   "metadata": {},
   "outputs": [],
   "source": [
    "pd.options.mode.copy_on_write = True"
   ]
  },
  {
   "cell_type": "code",
   "execution_count": 449,
   "id": "162d9dae-f1c1-48a1-9a1b-7df2773d3973",
   "metadata": {},
   "outputs": [],
   "source": [
    "# FORMATING\n",
    "# Convert 'Date-Time' columns to datetime format\n",
    "date_cols = ['Date']\n",
    "\n",
    "for df in [ch_0_conversion_rates, ch_0_schedule, ch_1_conversion_rates, ch_1_schedule,\n",
    "           ch_2_conversion_rates, ch_2_schedule, ch_A_schedule]:\n",
    "    df['Date'] = pd.to_datetime(df['Unnamed: 0'])\n",
    "    df.set_index('Date', inplace=True)\n",
    "    df.drop('Unnamed: 0', axis=1, inplace = True)\n",
    "   \n",
    "\n",
    "# Convert 'Release Date' in movie_database to datetime\n",
    "movies_df['release_date'] = pd.to_datetime(movies_df['release_date'])\n",
    "\n",
    "# Fill missing values if necessary\n",
    "movies_df.fillna(0, inplace=True)\n"
   ]
  },
  {
   "cell_type": "code",
   "execution_count": 450,
   "id": "1578be7d-1db7-417a-9561-f0f6e30b3336",
   "metadata": {},
   "outputs": [],
   "source": [
    "# Make 30-min slots\n",
    "# Slot duration 30 minutes\n",
    "slot_duration = 30  # minutes\n",
    "slots_needed = (movies_df['runtime_with_ads'] / slot_duration).apply(lambda x: int(x)).astype(int)\n",
    "movies_df['slots_needed'] = slots_needed"
   ]
  },
  {
   "cell_type": "code",
   "execution_count": 451,
   "id": "521b176f-234f-4931-b73c-7326227c9e5c",
   "metadata": {},
   "outputs": [
    {
     "name": "stdout",
     "output_type": "stream",
     "text": [
      "Duplicate movie titles found:\n",
      "4                 The Avengers\n",
      "17                     Titanic\n",
      "76               The Lion King\n",
      "105       Beauty and the Beast\n",
      "149        Alice in Wonderland\n",
      "                 ...          \n",
      "5748              Midnight Sun\n",
      "5761                The Island\n",
      "5773            The Shaggy Dog\n",
      "5855    Fun with Dick and Jane\n",
      "5879        The Perfect Weapon\n",
      "Name: title, Length: 258, dtype: object\n"
     ]
    }
   ],
   "source": [
    "# Check for duplicate movie titles\n",
    "duplicate_titles = movies_df[movies_df.duplicated(subset=['title'], keep=False)]\n",
    "if not duplicate_titles.empty:\n",
    "    print(\"Duplicate movie titles found:\")\n",
    "    print(duplicate_titles['title'])\n",
    "else:\n",
    "    print(\"No duplicate movie titles found.\")"
   ]
  },
  {
   "cell_type": "code",
   "execution_count": 452,
   "id": "ae04bf0f-edcd-45f9-8934-69d9a37b2396",
   "metadata": {},
   "outputs": [],
   "source": [
    "# Make broadcast date for any number of days\n",
    "\n",
    "# Choose the number of days you're make a schedule for \n",
    "    # this can  be used in the functions later\n",
    "num_days = 7\n",
    "\n",
    "# Define the broadcasting start and end dates\n",
    "broadcast_start_date = datetime.strptime(\"2024-10-01\", \"%Y-%m-%d\")\n",
    "broadcast_end_date = broadcast_start_date + timedelta(days=num_days)  # 7 days including start date\n",
    "\n",
    "# Define daily broadcast start and end times\n",
    "daily_broadcast_start_time = timedelta(hours=7, minutes=0)\n",
    "daily_broadcast_end_time = timedelta(hours=23, minutes=30)\n",
    "\n",
    "# Generate all time slots over the date range\n",
    "time_slots = []\n",
    "current_date = broadcast_start_date\n",
    "while current_date <= broadcast_end_date:\n",
    "    # Set the start and end times for the current day\n",
    "    day_start = datetime.combine(current_date.date(), datetime.min.time()) + daily_broadcast_start_time\n",
    "    day_end = datetime.combine(current_date.date(), datetime.min.time()) + daily_broadcast_end_time\n",
    "\n",
    "    current_time = day_start\n",
    "    while current_time <= day_end:\n",
    "        time_slots.append(current_time)\n",
    "        current_time += timedelta(minutes=slot_duration)\n",
    "\n",
    "    # Move to the next day\n",
    "    current_date += timedelta(days=1)\n",
    "\n",
    "# Create mappings between time slots and indices\n",
    "time_to_index = {t: idx for idx, t in enumerate(time_slots)}\n",
    "index_to_time = {idx: t for idx, t in enumerate(time_slots)}"
   ]
  },
  {
   "cell_type": "code",
   "execution_count": 453,
   "id": "9bc4f6bb-0c05-4976-b473-72d525a25b3c",
   "metadata": {
    "scrolled": true
   },
   "outputs": [],
   "source": [
    "# get averagae view counts and prime time factor for each 30 minute time slot\n",
    "ch_A_schedule_30min = ch_A_schedule.resample('30min').mean()\n",
    "\n",
    "# ch_A_schedule_30min.head()"
   ]
  },
  {
   "cell_type": "code",
   "execution_count": 454,
   "id": "3766cdd0-1b66-4d1e-82dd-6af4cb44d4ab",
   "metadata": {},
   "outputs": [],
   "source": [
    "# sum base viewership across each row (for total base viewership of each slot)\n",
    "ch_A_schedule_30min['total_view_count'] = np.nan\n",
    "for i in ch_A_schedule_30min:\n",
    "    ch_A_schedule_30min['total_view_count'] = ch_A_schedule_30min['children_baseline_view_count'] + ch_A_schedule_30min['adults_baseline_view_count'] + ch_A_schedule_30min['retirees_baseline_view_count']\n",
    "\n",
    "# ch_A_schedule_30min.head(1)"
   ]
  },
  {
   "cell_type": "code",
   "execution_count": 455,
   "id": "d311ebcf-5ff7-4e23-adea-2ac8b20c898f",
   "metadata": {},
   "outputs": [],
   "source": [
    "ch_A_schedule_30min.reset_index(inplace = True)\n",
    "# ch_A_schedule_30min.head(2)"
   ]
  },
  {
   "cell_type": "code",
   "execution_count": 456,
   "id": "140267e2-637a-4728-ab51-6ecda71428c0",
   "metadata": {},
   "outputs": [],
   "source": [
    "# # make objective function expression\n",
    "# objective_terms = []\n",
    "# for row in movies_small:\n",
    "#     var = x[m,t]\n",
    "#     coeff = ch_A_schedule_30min.loc[t,-1]\n",
    "#     if coeff != 0:\n",
    "#         objective_terms.append(coeff*var)\n",
    "# prob.setObjective(xp.Sum(objective_terms), sense=xp.maximize)\n"
   ]
  },
  {
   "cell_type": "code",
   "execution_count": 457,
   "id": "daea5c23-f380-4696-9ee5-59f6b65723b7",
   "metadata": {},
   "outputs": [],
   "source": [
    "# movies_small.head(1)"
   ]
  },
  {
   "cell_type": "code",
   "execution_count": 458,
   "id": "3855b5a6-d93c-4e8a-9b4a-223bac4ca63a",
   "metadata": {},
   "outputs": [],
   "source": [
    "# Make a smaller movies dataframe so it doesn't take so long\n",
    "movies_small = movies_df.head(300)\n",
    "movies_small.set_index('title', inplace = True)"
   ]
  },
  {
   "cell_type": "code",
   "execution_count": 459,
   "id": "fe994b32-7b78-4292-9008-d040c151f886",
   "metadata": {
    "scrolled": true
   },
   "outputs": [],
   "source": [
    "# movies_small.loc['Inception', 'children_scaled_popularity']"
   ]
  },
  {
   "cell_type": "code",
   "execution_count": 460,
   "id": "a1fd4fdf-06e8-4ab2-b221-72eb0e1c18bc",
   "metadata": {},
   "outputs": [],
   "source": [
    "# ch_A_schedule_30min.head(1)"
   ]
  },
  {
   "cell_type": "code",
   "execution_count": 461,
   "id": "7e878906-fefc-4da4-ac16-6ed4ba9ff4c9",
   "metadata": {},
   "outputs": [],
   "source": [
    "# ch_A_schedule_30min['children_baseline_view_count'].iloc[0]"
   ]
  },
  {
   "cell_type": "code",
   "execution_count": 462,
   "id": "007aa025-dd9a-4350-89cf-a9ab92808cec",
   "metadata": {},
   "outputs": [],
   "source": [
    "# # get views per movie per time slot\n",
    "# population = 1_000_000\n",
    "# pop_demogs = ['children_scaled_popularity', 'adults_scaled_popularity', 'retirees_scaled_popularity']\n",
    "# view_demogs = ['children_baseline_view_count', 'adult_baseline_view_count', 'retirees_baseline_view_count']\n",
    "# def view_per_mov_time(movie_dataframe, our_channel, population, pop_demographics, view_demographics):\n",
    "#     \"\"\" Calculate baseline viewership for movie m at time slot t\"\"\"\n",
    "#     views = x[m,t]*xp.Sum(population*movie_dataframe[k].loc[m]*our_channel[j].loc[m]  for k in pop_demogs for j in view_demogs)\n",
    "#     return views"
   ]
  },
  {
   "cell_type": "code",
   "execution_count": 463,
   "id": "a872cf9e-5677-4249-851c-f53c9e812194",
   "metadata": {},
   "outputs": [],
   "source": [
    "# def view_per_mov_time(movies):\n",
    "#     \"\"\" baseline viewership \"\"\"\n",
    "#     views = x[m,t]*xp.Sum(population * movies['children_scaled_popularity'].loc[m]"
   ]
  },
  {
   "cell_type": "code",
   "execution_count": 464,
   "id": "c0a41065-afe5-4792-926e-f4dc9b17d2f3",
   "metadata": {},
   "outputs": [],
   "source": [
    "# # make u(m,t) to give view counts of movie m at time t\n",
    "# u[m,t] <= (xp.Sum(view_per_m_t(x, m, t, movie_dataframe, our_channel, population. pop_demographics, view_demographics) for m in movies.index for t in T))"
   ]
  },
  {
   "cell_type": "code",
   "execution_count": 465,
   "id": "22d87f89-f5d8-4260-bdff-73176b539ec2",
   "metadata": {},
   "outputs": [
    {
     "data": {
      "text/html": [
       "<div>\n",
       "<style scoped>\n",
       "    .dataframe tbody tr th:only-of-type {\n",
       "        vertical-align: middle;\n",
       "    }\n",
       "\n",
       "    .dataframe tbody tr th {\n",
       "        vertical-align: top;\n",
       "    }\n",
       "\n",
       "    .dataframe thead th {\n",
       "        text-align: right;\n",
       "    }\n",
       "</style>\n",
       "<table border=\"1\" class=\"dataframe\">\n",
       "  <thead>\n",
       "    <tr style=\"text-align: right;\">\n",
       "      <th></th>\n",
       "      <th>vote_average</th>\n",
       "      <th>vote_count</th>\n",
       "      <th>release_date</th>\n",
       "      <th>revenue</th>\n",
       "      <th>runtime</th>\n",
       "      <th>budget</th>\n",
       "      <th>popularity</th>\n",
       "      <th>genres</th>\n",
       "      <th>n_ad_breaks</th>\n",
       "      <th>runtime_with_ads</th>\n",
       "      <th>scaled_popularity</th>\n",
       "      <th>children_scaled_popularity</th>\n",
       "      <th>adults_scaled_popularity</th>\n",
       "      <th>retirees_scaled_popularity</th>\n",
       "      <th>slots_needed</th>\n",
       "    </tr>\n",
       "    <tr>\n",
       "      <th>title</th>\n",
       "      <th></th>\n",
       "      <th></th>\n",
       "      <th></th>\n",
       "      <th></th>\n",
       "      <th></th>\n",
       "      <th></th>\n",
       "      <th></th>\n",
       "      <th></th>\n",
       "      <th></th>\n",
       "      <th></th>\n",
       "      <th></th>\n",
       "      <th></th>\n",
       "      <th></th>\n",
       "      <th></th>\n",
       "      <th></th>\n",
       "    </tr>\n",
       "  </thead>\n",
       "  <tbody>\n",
       "    <tr>\n",
       "      <th>Inception</th>\n",
       "      <td>8.364</td>\n",
       "      <td>34495</td>\n",
       "      <td>2010-07-15</td>\n",
       "      <td>825532764</td>\n",
       "      <td>148</td>\n",
       "      <td>160000000</td>\n",
       "      <td>83.952</td>\n",
       "      <td>['Action', 'Science Fiction', 'Adventure']</td>\n",
       "      <td>5</td>\n",
       "      <td>180.0</td>\n",
       "      <td>0.972027</td>\n",
       "      <td>0.777622</td>\n",
       "      <td>0.972027</td>\n",
       "      <td>0.388811</td>\n",
       "      <td>6</td>\n",
       "    </tr>\n",
       "  </tbody>\n",
       "</table>\n",
       "</div>"
      ],
      "text/plain": [
       "           vote_average  vote_count release_date    revenue  runtime  \\\n",
       "title                                                                  \n",
       "Inception         8.364       34495   2010-07-15  825532764      148   \n",
       "\n",
       "              budget  popularity                                      genres  \\\n",
       "title                                                                          \n",
       "Inception  160000000      83.952  ['Action', 'Science Fiction', 'Adventure']   \n",
       "\n",
       "           n_ad_breaks  runtime_with_ads  scaled_popularity  \\\n",
       "title                                                         \n",
       "Inception            5             180.0           0.972027   \n",
       "\n",
       "           children_scaled_popularity  adults_scaled_popularity  \\\n",
       "title                                                             \n",
       "Inception                    0.777622                  0.972027   \n",
       "\n",
       "           retirees_scaled_popularity  slots_needed  \n",
       "title                                                \n",
       "Inception                    0.388811             6  "
      ]
     },
     "execution_count": 465,
     "metadata": {},
     "output_type": "execute_result"
    }
   ],
   "source": [
    " movies_small.head(1)"
   ]
  },
  {
   "cell_type": "code",
   "execution_count": 466,
   "id": "2b60956f-1060-4618-90a3-a4a3174dd277",
   "metadata": {},
   "outputs": [
    {
     "data": {
      "text/html": [
       "<div>\n",
       "<style scoped>\n",
       "    .dataframe tbody tr th:only-of-type {\n",
       "        vertical-align: middle;\n",
       "    }\n",
       "\n",
       "    .dataframe tbody tr th {\n",
       "        vertical-align: top;\n",
       "    }\n",
       "\n",
       "    .dataframe thead th {\n",
       "        text-align: right;\n",
       "    }\n",
       "</style>\n",
       "<table border=\"1\" class=\"dataframe\">\n",
       "  <thead>\n",
       "    <tr style=\"text-align: right;\">\n",
       "      <th></th>\n",
       "      <th>Date</th>\n",
       "      <th>children_baseline_view_count</th>\n",
       "      <th>adults_baseline_view_count</th>\n",
       "      <th>retirees_baseline_view_count</th>\n",
       "      <th>prime_time_factor</th>\n",
       "      <th>total_view_count</th>\n",
       "    </tr>\n",
       "  </thead>\n",
       "  <tbody>\n",
       "    <tr>\n",
       "      <th>0</th>\n",
       "      <td>2024-10-01 07:00:00</td>\n",
       "      <td>0.019383</td>\n",
       "      <td>0.022296</td>\n",
       "      <td>0.003611</td>\n",
       "      <td>1.0</td>\n",
       "      <td>0.04529</td>\n",
       "    </tr>\n",
       "  </tbody>\n",
       "</table>\n",
       "</div>"
      ],
      "text/plain": [
       "                 Date  children_baseline_view_count  \\\n",
       "0 2024-10-01 07:00:00                      0.019383   \n",
       "\n",
       "   adults_baseline_view_count  retirees_baseline_view_count  \\\n",
       "0                    0.022296                      0.003611   \n",
       "\n",
       "   prime_time_factor  total_view_count  \n",
       "0                1.0           0.04529  "
      ]
     },
     "execution_count": 466,
     "metadata": {},
     "output_type": "execute_result"
    }
   ],
   "source": [
    "ch_A_schedule_30min.head(1)"
   ]
  },
  {
   "cell_type": "code",
   "execution_count": 467,
   "id": "493950b6-a34f-40ef-b5d7-01ec3cbb4c1a",
   "metadata": {},
   "outputs": [],
   "source": [
    "# pop = 1_000_000\n",
    "# pop_demogs = ['children_scaled_popularity', 'adults_scaled_popularity', 'retirees_scaled_popularity']\n",
    "# view_demogs = ['children_baseline_view_count', 'adults_baseline_view_count', 'retirees_baseline_view_count']"
   ]
  },
  {
   "cell_type": "code",
   "execution_count": 486,
   "id": "c7826492-2965-4feb-a86b-d99eff37e9c6",
   "metadata": {},
   "outputs": [],
   "source": [
    "# Get viewership counts for movie m in time slot t\n",
    "\n",
    "def get_views(movies, our_channel):\n",
    "    #ans = xp.Sum(movies.loc[m,k]*our_channel[j].iloc[t] for k in pop_demos for j in view_demos for m in movies.index for t in T)\n",
    "    for n in movies.index:\n",
    "        for c in our_channel.index:\n",
    "            ans = ((movies['children_scaled_popularity'].loc[n]*our_channel['children_baseline_view_count'].iloc[c])\n",
    "                   + (movies['adults_scaled_popularity'].loc[n]*our_channel['adults_baseline_view_count'].iloc[c])\n",
    "                   + (movies['retirees_scaled_popularity'].loc[n]*our_channel['retirees_baseline_view_count'].iloc[c]) )*1_000_000\n",
    "    ans = math.floor(ans)\n",
    "    print(ans)"
   ]
  },
  {
   "cell_type": "code",
   "execution_count": 469,
   "id": "20714c84-829f-41d7-8cd2-87db7afb0bff",
   "metadata": {
    "scrolled": true
   },
   "outputs": [],
   "source": [
    "# get_views(movies = movies_small.head(1), our_channel = ch_A_schedule_30min.head(1))"
   ]
  },
  {
   "cell_type": "code",
   "execution_count": null,
   "id": "9fdef39f-2656-4ebc-970e-0c85d4ddbeab",
   "metadata": {},
   "outputs": [],
   "source": []
  },
  {
   "cell_type": "code",
   "execution_count": null,
   "id": "f00fad66-ef8d-462f-b4fd-21e13b1b2a33",
   "metadata": {},
   "outputs": [],
   "source": []
  },
  {
   "cell_type": "code",
   "execution_count": 487,
   "id": "57148576-dd58-491d-a192-ae143d27343b",
   "metadata": {},
   "outputs": [],
   "source": [
    "# Scheduling Optimizer Model\n",
    "objective_terms = []\n",
    "def model(T, movies, our_channel):\n",
    "    prob = xp.problem(name=\"Movie_Scheduling_Problem\")\n",
    "    \n",
    "    # Decision Variables\n",
    "    # if movie m in shown in time slot t\n",
    "    x = {(m,t): xp.var(vartype=xp.binary, name='x{0}_{1}'.format(m,t)) \n",
    "         for t in T for m in movies.index}\n",
    "    prob.addVariable(x)\n",
    "    \n",
    "    y = {(m): xp.var(vartype=xp.binary, name='y{0}'.format(m)) for m in movies.index}\n",
    "    prob.addVariable(y)\n",
    "\n",
    "    # start time of movie m \n",
    "    s = {(m): xp.var(vartype=xp.integer, name='s{0}'.format(m)) for m in movies.index}\n",
    "    prob.addVariable(s)\n",
    "\n",
    "    # end time of movie m \n",
    "    e = {(m): xp.var(vartype=xp.integer, name='e{0}'.format(m)) for m in movies.index}\n",
    "    prob.addVariable(e)\n",
    "    decision_vars = [x,y,s,e]\n",
    "\n",
    "    # view count of movie m at time t\n",
    "    u = {(m,t): xp.var(vartype=xp.integer, name='u_{0}_{1}'.format(m,t)) for t in T for m in movies.index}\n",
    "    \n",
    "\n",
    "    # Constraints\n",
    "    # for t in T:\n",
    "        # big M \n",
    "    M = len(time_slots)\n",
    "    T_end = len(time_slots) -1 # last time slot index\n",
    "    \n",
    "    # movie duration \n",
    "    prob.addConstraint(xp.Sum(x[m,t] for t in T) == movies.loc[m, 'slots_needed']*y[m] for m in movies.index)\n",
    "\n",
    "    # has to be a movie in every slot\n",
    "    prob.addConstraint(xp.Sum(x[m,t] for m in movies.index) == 1 for t in T)\n",
    "\n",
    "    # end time\n",
    "    # prob.addConstraint(e[m] == t*xp.Sum(x) for m in movie.index())\n",
    "\n",
    "    # end time limit\n",
    "    prob.addConstraint((t+1)*x[m,t] <= e[m] for m in movies.index for t in T)\n",
    "\n",
    "    # start time limit\n",
    "    #prob.addConstraint(s[m] <= (t*x[m,t]) for m in movie.index() fot t in T)\n",
    "\n",
    "    # latest time a movie can start and still show full movie \n",
    "    prob.addConstraint(s[m] <= t*x[m,t] + (1-x[m,t])*M for m in movies.index for t in T)\n",
    "\n",
    "    # end-start = movie duration\n",
    "    prob.addConstraint(e[m]-s[m] == movies.loc[m, 'slots_needed']*y[m] for m in movies.index)\n",
    "\n",
    "    # last movie time?\n",
    "    prob.addConstraint(s[m] + movies.loc[m, 'slots_needed'] -1 <= T_end for m in movies.index)\n",
    "\n",
    "    # make u(m,t) to give view counts of movie m at time t\n",
    "    prob.addConstraint(x[m,t]*xp.Sum(get_views(movies, our_channel) for m in movies.index for c in our_channel.index) >= u[m,t])\n",
    "\n",
    "  # def get_views(movies, our_channel):\n",
    "  #   #ans = xp.Sum(movies.loc[m,k]*our_channel[j].iloc[t] for k in pop_demos for j in view_demos for m in movies.index for t in T)\n",
    "  #   for m in movies.index:\n",
    "  #       for c in our_channel.index:\n",
    "  #           ans = ((movies['children_scaled_popularity'].loc[m]*our_channel['children_baseline_view_count'].iloc[c])\n",
    "  #                  + (movies['adults_scaled_popularity'].loc[m]*our_channel['adults_baseline_view_count'].iloc[c])\n",
    "  #                  + (movies['retirees_scaled_popularity'].loc[m]*our_channel['retirees_baseline_view_count'].iloc[c]) )*1_000_000\n",
    "  #   ans = math.floor(ans)\n",
    "  #   print(ans)\n",
    "\n",
    "    # make objective function expression\n",
    "    prob.setObjective(xp.Sum(u[m,t] for m in movies.index for t in T), sense = xp.maximize)\n",
    "\n",
    "    return prob, decision_vars"
   ]
  },
  {
   "cell_type": "code",
   "execution_count": 488,
   "id": "4eba7391-b90f-428c-ad2f-a9843c8df2c6",
   "metadata": {},
   "outputs": [],
   "source": [
    "# Making schedule layout\n",
    "def get_time(slot_index):\n",
    "    return time_slots[slot_index].time()\n",
    "\n",
    "used_movie_ids = []\n",
    "def get_sched(prob, movies, decision_vars): \n",
    "    \n",
    "    x = decision_vars[0]\n",
    "    y = decision_vars[1]\n",
    "    s = decision_vars[2]\n",
    "    e = decision_vars[3]\n",
    "    \n",
    "    scheduled_movies = []\n",
    "    used_movie_ids = []\n",
    "\n",
    "    for m in movies.index:\n",
    "    # Retrieve the solution value for y[m_idx]\n",
    "        y_value = prob.getSolution(y[m])\n",
    "        \n",
    "        if y_value > 0.5:  # Movie is scheduled\n",
    "            used_movie_ids.append(m)\n",
    "            \n",
    "            # # Retrieve solution values for s[m_idx] and e[m_idx]\n",
    "            start_slot = int(prob.getSolution(s[m]))\n",
    "            end_slot = int(prob.getSolution(e[m]))\n",
    "            \n",
    "            # # # # Convert slot indices to actual times\n",
    "            start_time = get_time(start_slot)\n",
    "            end_time = get_time(end_slot)\n",
    "    \n",
    "            # # Append the scheduled movie details\n",
    "            scheduled_movies.append({\n",
    "                'Movie Title': m,\n",
    "                'Start Slot': start_slot,\n",
    "                'Start Time': start_time.strftime('%H:%M'),\n",
    "                'End Slot': end_slot,\n",
    "                'End Time': end_time.strftime('%H:%M')\n",
    "            })\n",
    "    schedule_df = pd.DataFrame.from_dict(scheduled_movies)\n",
    "    schedule_df.sort_values(['Start Slot'], axis = 0, inplace = True)\n",
    "    print(schedule_df)\n",
    "    return scheduled_movies, used_movie_ids\n",
    "    "
   ]
  },
  {
   "cell_type": "code",
   "execution_count": 489,
   "id": "267eb595-08dd-4067-b9a8-a27b9c23ac14",
   "metadata": {},
   "outputs": [],
   "source": [
    "# Putting it all together\n",
    "\n",
    "def movie_sched(number_days, movies, our_channel):\n",
    "    total_schedule = []\n",
    "    for k in range(number_days): \n",
    "        if k == 0:\n",
    "            T = range(0, (k+1)*33)\n",
    "\n",
    "            prob, decision_vars =  model(T,movies, our_channel)\n",
    "            \n",
    "            prob.solve()\n",
    "            \n",
    "            scheduled_movies, used_movie_ids = get_sched(prob,movies,decision_vars)\n",
    "            \n",
    "            for i in used_movie_ids:\n",
    "                movies.drop(i, inplace = True)\n",
    "            total_schedule.append(scheduled_movies)\n",
    "            \n",
    "        if k > 0:\n",
    "            T = range(k*34, (k*34)+33)\n",
    "\n",
    "            prob, decision_vars =  model(T,movies, our_channel)\n",
    "            \n",
    "            prob.solve()\n",
    "            \n",
    "            scheduled_movies, used_movie_ids = get_sched(prob,movies,decision_vars)\n",
    "            \n",
    "            for i in used_movie_ids:\n",
    "                movies.drop(i, inplace = True)\n",
    "            total_schedule.append(scheduled_movies)\n",
    "            \n",
    "    return scheduled_movies"
   ]
  },
  {
   "cell_type": "code",
   "execution_count": 490,
   "id": "4679a38e-5242-4b79-bd24-aeaad50a2ab4",
   "metadata": {},
   "outputs": [],
   "source": [
    "# pop = 1_000_000\n",
    "# pop_demogs = ['children_scaled_popularity', 'adults_scaled_popularity', 'retirees_scaled_popularity']\n",
    "# view_demogs = ['children_baseline_view_count', 'adult_baseline_view_count', 'retirees_baseline_view_count']"
   ]
  },
  {
   "cell_type": "code",
   "execution_count": 491,
   "id": "1111fc27-3c0c-48ae-a11e-c098b3e8019a",
   "metadata": {},
   "outputs": [
    {
     "ename": "NameError",
     "evalue": "name 'm' is not defined",
     "output_type": "error",
     "traceback": [
      "\u001b[1;31m---------------------------------------------------------------------------\u001b[0m",
      "\u001b[1;31mNameError\u001b[0m                                 Traceback (most recent call last)",
      "Cell \u001b[1;32mIn[491], line 2\u001b[0m\n\u001b[0;32m      1\u001b[0m \u001b[38;5;66;03m# try for 7 days\u001b[39;00m\n\u001b[1;32m----> 2\u001b[0m movie_sched(number_days \u001b[38;5;241m=\u001b[39m \u001b[38;5;241m2\u001b[39m, movies \u001b[38;5;241m=\u001b[39m movies_small, our_channel \u001b[38;5;241m=\u001b[39m ch_A_schedule_30min)\n",
      "Cell \u001b[1;32mIn[489], line 9\u001b[0m, in \u001b[0;36mmovie_sched\u001b[1;34m(number_days, movies, our_channel)\u001b[0m\n\u001b[0;32m      6\u001b[0m \u001b[38;5;28;01mif\u001b[39;00m k \u001b[38;5;241m==\u001b[39m \u001b[38;5;241m0\u001b[39m:\n\u001b[0;32m      7\u001b[0m     T \u001b[38;5;241m=\u001b[39m \u001b[38;5;28mrange\u001b[39m(\u001b[38;5;241m0\u001b[39m, (k\u001b[38;5;241m+\u001b[39m\u001b[38;5;241m1\u001b[39m)\u001b[38;5;241m*\u001b[39m\u001b[38;5;241m33\u001b[39m)\n\u001b[1;32m----> 9\u001b[0m     prob, decision_vars \u001b[38;5;241m=\u001b[39m  model(T,movies, our_channel)\n\u001b[0;32m     11\u001b[0m     prob\u001b[38;5;241m.\u001b[39msolve()\n\u001b[0;32m     13\u001b[0m     scheduled_movies, used_movie_ids \u001b[38;5;241m=\u001b[39m get_sched(prob,movies,decision_vars)\n",
      "Cell \u001b[1;32mIn[487], line 59\u001b[0m, in \u001b[0;36mmodel\u001b[1;34m(T, movies, our_channel)\u001b[0m\n\u001b[0;32m     56\u001b[0m   prob\u001b[38;5;241m.\u001b[39maddConstraint(s[m] \u001b[38;5;241m+\u001b[39m movies\u001b[38;5;241m.\u001b[39mloc[m, \u001b[38;5;124m'\u001b[39m\u001b[38;5;124mslots_needed\u001b[39m\u001b[38;5;124m'\u001b[39m] \u001b[38;5;241m-\u001b[39m\u001b[38;5;241m1\u001b[39m \u001b[38;5;241m<\u001b[39m\u001b[38;5;241m=\u001b[39m T_end \u001b[38;5;28;01mfor\u001b[39;00m m \u001b[38;5;129;01min\u001b[39;00m movies\u001b[38;5;241m.\u001b[39mindex)\n\u001b[0;32m     58\u001b[0m   \u001b[38;5;66;03m# make u(m,t) to give view counts of movie m at time t\u001b[39;00m\n\u001b[1;32m---> 59\u001b[0m   prob\u001b[38;5;241m.\u001b[39maddConstraint(x[m,t]\u001b[38;5;241m*\u001b[39mxp\u001b[38;5;241m.\u001b[39mSum(get_views(movies, our_channel) \u001b[38;5;28;01mfor\u001b[39;00m m \u001b[38;5;129;01min\u001b[39;00m movies\u001b[38;5;241m.\u001b[39mindex \u001b[38;5;28;01mfor\u001b[39;00m c \u001b[38;5;129;01min\u001b[39;00m our_channel\u001b[38;5;241m.\u001b[39mindex) \u001b[38;5;241m>\u001b[39m\u001b[38;5;241m=\u001b[39m u[m,t])\n\u001b[0;32m     61\u001b[0m \u001b[38;5;66;03m# def get_views(movies, our_channel):\u001b[39;00m\n\u001b[0;32m     62\u001b[0m \u001b[38;5;66;03m#   #ans = xp.Sum(movies.loc[m,k]*our_channel[j].iloc[t] for k in pop_demos for j in view_demos for m in movies.index for t in T)\u001b[39;00m\n\u001b[0;32m     63\u001b[0m \u001b[38;5;66;03m#   for m in movies.index:\u001b[39;00m\n\u001b[1;32m   (...)\u001b[0m\n\u001b[0;32m     70\u001b[0m \n\u001b[0;32m     71\u001b[0m   \u001b[38;5;66;03m# make objective function expression\u001b[39;00m\n\u001b[0;32m     72\u001b[0m   prob\u001b[38;5;241m.\u001b[39msetObjective(xp\u001b[38;5;241m.\u001b[39mSum(u[m,t] \u001b[38;5;28;01mfor\u001b[39;00m m \u001b[38;5;129;01min\u001b[39;00m movies\u001b[38;5;241m.\u001b[39mindex \u001b[38;5;28;01mfor\u001b[39;00m t \u001b[38;5;129;01min\u001b[39;00m T), sense \u001b[38;5;241m=\u001b[39m xp\u001b[38;5;241m.\u001b[39mmaximize)\n",
      "\u001b[1;31mNameError\u001b[0m: name 'm' is not defined"
     ]
    }
   ],
   "source": [
    "# try for 7 days\n",
    "movie_sched(number_days = 2, movies = movies_small, our_channel = ch_A_schedule_30min)"
   ]
  },
  {
   "cell_type": "code",
   "execution_count": null,
   "id": "010b2469-9f81-459e-b7e1-8fd93e648928",
   "metadata": {},
   "outputs": [],
   "source": []
  }
 ],
 "metadata": {
  "kernelspec": {
   "display_name": "Python 3 (ipykernel)",
   "language": "python",
   "name": "python3"
  },
  "language_info": {
   "codemirror_mode": {
    "name": "ipython",
    "version": 3
   },
   "file_extension": ".py",
   "mimetype": "text/x-python",
   "name": "python",
   "nbconvert_exporter": "python",
   "pygments_lexer": "ipython3",
   "version": "3.12.7"
  }
 },
 "nbformat": 4,
 "nbformat_minor": 5
}
