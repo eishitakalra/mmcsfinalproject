{
 "cells": [
  {
   "cell_type": "code",
   "execution_count": 3,
   "id": "c3884b6d-d317-4c29-8391-0889dbf00fb2",
   "metadata": {},
   "outputs": [],
   "source": [
    "# PATHS TO FILES\n",
    "\n",
    "import numpy as np\n",
    "import pandas as pd\n",
    "import xpress as xp\n",
    "from datetime import datetime, timedelta\n",
    "import os\n",
    "\n",
    "# Read in files using the explicitly defined base path\n",
    "ch_0_conversion_rates = pd.read_csv('channel_0_conversion_rates.csv')\n",
    "ch_0_schedule = pd.read_csv('channel_0_schedule.csv')\n",
    "ch_1_conversion_rates = pd.read_csv('channel_1_conversion_rates.csv')\n",
    "ch_1_schedule = pd.read_csv('channel_1_schedule.csv')\n",
    "ch_2_conversion_rates = pd.read_csv('channel_2_conversion_rates.csv')\n",
    "ch_2_schedule = pd.read_csv('channel_2_schedule.csv')\n",
    "ch_A_schedule = pd.read_csv('channel_A_schedule.csv')\n",
    "movies_df = pd.read_csv('movie_database.csv')"
   ]
  },
  {
   "cell_type": "code",
   "execution_count": 4,
   "id": "9a561a4b-1dc5-4fab-8375-4a476c5d447f",
   "metadata": {},
   "outputs": [],
   "source": [
    "xp.init('C:/xpressmp/bin/xpauth.xpr')\n",
    "pd.options.mode.copy_on_write = True"
   ]
  },
  {
   "cell_type": "code",
   "execution_count": 5,
   "id": "c7e871f2-b826-4048-a14e-f78d66a5ec68",
   "metadata": {},
   "outputs": [],
   "source": [
    "# FORMATING\n",
    "# Convert 'Date-Time' columns to datetime format\n",
    "date_cols = ['Date']\n",
    "\n",
    "for df in [ch_0_conversion_rates, ch_0_schedule, ch_1_conversion_rates, ch_1_schedule,\n",
    "           ch_2_conversion_rates, ch_2_schedule, ch_A_schedule]:\n",
    "    df['Date'] = pd.to_datetime(df['Unnamed: 0'])\n",
    "    df.set_index('Date', inplace=True)\n",
    "    df.drop('Unnamed: 0', axis=1, inplace = True)\n",
    "   \n",
    "\n",
    "# Convert 'Release Date' in movie_database to datetime\n",
    "movies_df['release_date'] = pd.to_datetime(movies_df['release_date'])\n",
    "\n",
    "# Fill missing values if necessary\n",
    "movies_df.fillna(0, inplace=True)\n"
   ]
  },
  {
   "cell_type": "code",
   "execution_count": 6,
   "id": "98674437-cee1-4bf1-830a-5ae2a0a3c453",
   "metadata": {},
   "outputs": [],
   "source": [
    "# Slot duration 30 minutes\n",
    "slot_duration = 30  # minutes\n",
    "movies_df['slots_needed'] = (movies_df['runtime_with_ads'] / slot_duration).apply(lambda x: int(x)).astype(int)\n"
   ]
  },
  {
   "cell_type": "code",
   "execution_count": 7,
   "id": "35ee530b-21ec-4b71-9c6f-ee15139aa344",
   "metadata": {},
   "outputs": [],
   "source": [
    "# Define the broadcasting date\n",
    "\n",
    "k = 2\n",
    "start_date = datetime.strptime(\"2024-10-01\", \"%Y-%m-%d\")\n",
    "test_range = pd.date_range(start_date, periods = k)\n",
    "\n",
    "broadcast_date = []\n",
    "for i in test_range:\n",
    "    broadcast_date.append(i)\n",
    "for i in broadcast_date:\n",
    "    broadcast_start = i.replace(hour=7, minute=0)\n",
    "    broadcast_end = i.replace(hour=23, minute=30)\n",
    "# print(broadcast_date)\n",
    "    \n",
    "\n",
    "# Generate all time slots\n",
    " \n",
    "time_slots = []\n",
    "current_time = broadcast_start\n",
    "while current_time <= broadcast_end:\n",
    "    time_slots.append(current_time)\n",
    "    current_time += timedelta(minutes=slot_duration)\n",
    "\n",
    "# Create mappings between time slots and indices\n",
    "time_to_index = {t: idx for idx, t in enumerate(time_slots)}\n",
    "index_to_time = {idx: t for idx, t in enumerate(time_slots)}\n"
   ]
  },
  {
   "cell_type": "code",
   "execution_count": 8,
   "id": "baf547cf-ba96-43df-bbfb-eb1cced04866",
   "metadata": {},
   "outputs": [
    {
     "name": "stderr",
     "output_type": "stream",
     "text": [
      "C:\\Users\\Elie\\AppData\\Local\\Temp\\ipykernel_6016\\290806634.py:5: FutureWarning: 'T' is deprecated and will be removed in a future version, please use 'min' instead.\n",
      "  ch_A_schedule_30min = ch_A_schedule.resample('30T').mean(numeric_only = True).reset_index()\n"
     ]
    }
   ],
   "source": [
    "# Set 'Date' as index\n",
    "#ch_A_schedule.set_index('Date', inplace=True)\n",
    "\n",
    "# Resample to 30-minute intervals (use mean of groups)\n",
    "ch_A_schedule_30min = ch_A_schedule.resample('30T').mean(numeric_only = True).reset_index()\n",
    "\n"
   ]
  },
  {
   "cell_type": "code",
   "execution_count": 14,
   "id": "22cc70c9-8276-40dd-bd6e-a9994c365984",
   "metadata": {},
   "outputs": [],
   "source": [
    "# # Create a dictionary to hold baseline viewership per time slot\n",
    "# baseline_viewership = {}\n",
    "\n",
    "# for idx, row in ch_A_schedule_30min.iterrows():\n",
    "#     time_slot_time = row['Date'].time()\n",
    "#     baseline_viewership[time_slot_time] = {\n",
    "#         'children': row['children_baseline_view_count'],\n",
    "#         'adults': row['adults_baseline_view_count'],\n",
    "#         'retirees': row['retirees_baseline_view_count'],\n",
    "#         'prime_time_factor': row.get('prime_time_factor', 1)\n",
    "#     }\n"
   ]
  },
  {
   "cell_type": "code",
   "execution_count": 10,
   "id": "999d1d6e-8b28-4534-bfe8-9211fde59219",
   "metadata": {},
   "outputs": [
    {
     "name": "stdout",
     "output_type": "stream",
     "text": [
      "Duplicate movie titles found:\n",
      "4                 The Avengers\n",
      "17                     Titanic\n",
      "76               The Lion King\n",
      "105       Beauty and the Beast\n",
      "149        Alice in Wonderland\n",
      "                 ...          \n",
      "5748              Midnight Sun\n",
      "5761                The Island\n",
      "5773            The Shaggy Dog\n",
      "5855    Fun with Dick and Jane\n",
      "5879        The Perfect Weapon\n",
      "Name: title, Length: 258, dtype: object\n"
     ]
    }
   ],
   "source": [
    "# Check for duplicate movie titles\n",
    "duplicate_titles = movies_df[movies_df.duplicated(subset=['title'], keep=False)]\n",
    "if not duplicate_titles.empty:\n",
    "    print(\"Duplicate movie titles found:\")\n",
    "    print(duplicate_titles['title'])\n",
    "else:\n",
    "    print(\"No duplicate movie titles found.\")\n"
   ]
  },
  {
   "cell_type": "code",
   "execution_count": 11,
   "id": "f1a0ac30-2644-43cd-9b6e-f4b19c2c6c1f",
   "metadata": {},
   "outputs": [
    {
     "name": "stdout",
     "output_type": "stream",
     "text": [
      "Baseline Viewership Data:\n",
      "Time Slot 07:00:00: {'children': 0.019382841356626535, 'adults': 0.02229631398193545, 'retirees': 0.0036111486676537498, 'prime_time_factor': 1.0}\n",
      "Time Slot 07:30:00: {'children': 0.0154847774957037, 'adults': 0.02292807047704942, 'retirees': 0.004694213755967884, 'prime_time_factor': 1.0}\n",
      "Time Slot 08:00:00: {'children': 0.00968385690271545, 'adults': 0.024244919498669682, 'retirees': 0.0060211763864975, 'prime_time_factor': 1.0}\n",
      "Time Slot 08:30:00: {'children': 0.00474409740529315, 'adults': 0.026237828711766702, 'retirees': 0.007611797991820133, 'prime_time_factor': 1.0}\n",
      "Time Slot 09:00:00: {'children': 0.0018312668340905334, 'adults': 0.028892152598647483, 'retirees': 0.009478422773657767, 'prime_time_factor': 1.0}\n"
     ]
    }
   ],
   "source": [
    "# print(\"Baseline Viewership Data:\")\n",
    "# for key, value in list(baseline_viewership.items())[:5]:  # Print first 5 entries\n",
    "#     print(f\"Time Slot {key}: {value}\")\n"
   ]
  },
  {
   "cell_type": "code",
   "execution_count": 12,
   "id": "1647a9cb-0040-415f-9cf6-82fefe0bc3e3",
   "metadata": {},
   "outputs": [],
   "source": [
    "# Total population (adjust as needed)\n",
    "total_population = 1_000_000 "
   ]
  },
  {
   "cell_type": "code",
   "execution_count": 15,
   "id": "0e106cd5-21a0-46d9-92a1-6de97dcfce42",
   "metadata": {},
   "outputs": [],
   "source": [
    "# # PRINT EXAMPLE OF BASE VIEWERSHIP. CONTAINS VIEWERSHIP PER MOVIE PER TIME SLOT (sums all groups)\n",
    "# print(\"Sample of base_viewership:\")\n",
    "# sample_items = list(base_viewership.items())[:5]\n",
    "# for key, value in sample_items:\n",
    "#     print(f\"{key}: {value}\")\n"
   ]
  },
  {
   "cell_type": "code",
   "execution_count": 16,
   "id": "7217761c-088a-435c-bfa2-3c00d98abb1e",
   "metadata": {},
   "outputs": [],
   "source": [
    "movies_small = movies_df.sample(150)\n",
    "num_movies = len(movies_small)\n",
    "num_slots = 34\n",
    "\n",
    "mov = range(num_movies)\n",
    "sched = range(num_slots)"
   ]
  },
  {
   "cell_type": "code",
   "execution_count": 28,
   "id": "6317c81d-b88f-4740-ae44-d1cee0f28039",
   "metadata": {},
   "outputs": [
    {
     "ename": "SyntaxError",
     "evalue": "expression cannot contain assignment, perhaps you meant \"==\"? (3910721129.py, line 34)",
     "output_type": "error",
     "traceback": [
      "\u001b[1;36m  Cell \u001b[1;32mIn[28], line 34\u001b[1;36m\u001b[0m\n\u001b[1;33m    prob.addConstraint(xp.Sum(x) = d*y for m in movies_small)\u001b[0m\n\u001b[1;37m                       ^\u001b[0m\n\u001b[1;31mSyntaxError\u001b[0m\u001b[1;31m:\u001b[0m expression cannot contain assignment, perhaps you meant \"==\"?\n"
     ]
    }
   ],
   "source": [
    "def model(T, movies_small):\n",
    "    prob = xp.problem(name=\"Movie_Scheduling_Problem\")\n",
    "    M = range(len(movies_small))\n",
    "\n",
    "    # Decision Variables\n",
    "    # if movie m in shown in time slot t\n",
    "    x = {(m,t): xp.var(vartype=xp.binary, name='x{0}_{1}'.format(m,t)) \n",
    "         for t in T for m in movies_small.index}\n",
    "    prob.addVariable(x)\n",
    "\n",
    "    # if movie m is shown \n",
    "    y = {(m): xp.var(vartype=xp.binary, name='y{0}'.format(m)) for m in movies_small}\n",
    "    prob.addVariable(y)\n",
    "\n",
    "    # start time of movie m \n",
    "    s = {(m): xp.var(vartype=xp.integer, name='s{0}'.format(m)) for m in movies_small}\n",
    "    prob.addVariable(s)\n",
    "\n",
    "    # end time of movie m \n",
    "    e = {(m): xp.var(vartype=xp.integer, name='e{0}'.format(m)) for m in movies_small}\n",
    "    prob.addVariable(e)\n",
    "\n",
    "    # movie duration\n",
    "    d = {(m): xp.var(vartype=xp.integer, name='d{0}'.format(m)) for m in movies_small}\n",
    "    prob.addVariable(d)\n",
    "\n",
    "    # Constraints\n",
    "    for t in T:\n",
    "        # big M \n",
    "        M = len(time_slots)\n",
    "        T_end = len(time_slots) -1 # last time slot index\n",
    "        \n",
    "        # movie duration \n",
    "        prob.addConstraint(xp.Sum(x) == d*y for m in movies_small)\n",
    "\n",
    "        # end time\n",
    "        prob.addConstraint(e == t*xp.Sum(x) for m in movies_small)\n",
    "\n",
    "        # end time limit\n",
    "        prob.addConstraint((t*x) <= e for m in movies_small)\n",
    "\n",
    "        # start time limit\n",
    "        prob.addConstraint(s <= (t*x) for m in movies_small)\n",
    "\n",
    "        # latest time a movie can start and still show full movie \n",
    "        prob.addConstraint(s <= t + (1-x)*M for m in movies_small)\n",
    "\n",
    "        # end-start = movie duration\n",
    "        prob.addConstraint(e-s+1 == d*y for m in movies_small)\n",
    "\n",
    "        # last movie time?\n",
    "        prob.addConstraint(s+d-1 <= T_end)\n",
    "        \n",
    "\n",
    "    \n",
    "    return prob"
   ]
  },
  {
   "cell_type": "code",
   "execution_count": 29,
   "id": "a0bf6db2-3a05-40d4-8893-c765f89469d6",
   "metadata": {},
   "outputs": [
    {
     "ename": "TypeError",
     "evalue": "unsupported operand type(s) for *: 'dict' and 'dict'",
     "output_type": "error",
     "traceback": [
      "\u001b[1;31m---------------------------------------------------------------------------\u001b[0m",
      "\u001b[1;31mTypeError\u001b[0m                                 Traceback (most recent call last)",
      "Cell \u001b[1;32mIn[29], line 6\u001b[0m\n\u001b[0;32m      3\u001b[0m \u001b[38;5;28;01mfor\u001b[39;00m k \u001b[38;5;129;01min\u001b[39;00m \u001b[38;5;28mrange\u001b[39m(\u001b[38;5;241m3\u001b[39m): \n\u001b[0;32m      4\u001b[0m     T \u001b[38;5;241m=\u001b[39m \u001b[38;5;28mrange\u001b[39m(k\u001b[38;5;241m*\u001b[39m\u001b[38;5;241m33\u001b[39m, (k\u001b[38;5;241m+\u001b[39m\u001b[38;5;241m1\u001b[39m)\u001b[38;5;241m*\u001b[39m\u001b[38;5;241m33\u001b[39m\u001b[38;5;241m+\u001b[39m\u001b[38;5;241m1\u001b[39m)\n\u001b[1;32m----> 6\u001b[0m     prob \u001b[38;5;241m=\u001b[39m  model(T,movies_small)\n\u001b[0;32m      8\u001b[0m     prob\u001b[38;5;241m.\u001b[39msolve()\n\u001b[0;32m     10\u001b[0m     scheduled_movies, used_movie_ids \u001b[38;5;241m=\u001b[39m get_sched(prob,movies_small)\n",
      "Cell \u001b[1;32mIn[26], line 34\u001b[0m, in \u001b[0;36mmodel\u001b[1;34m(T, movies_small)\u001b[0m\n\u001b[0;32m     31\u001b[0m T_end \u001b[38;5;241m=\u001b[39m \u001b[38;5;28mlen\u001b[39m(time_slots) \u001b[38;5;241m-\u001b[39m\u001b[38;5;241m1\u001b[39m \u001b[38;5;66;03m# last time slot index\u001b[39;00m\n\u001b[0;32m     33\u001b[0m \u001b[38;5;66;03m# movie duration \u001b[39;00m\n\u001b[1;32m---> 34\u001b[0m prob\u001b[38;5;241m.\u001b[39maddConstraint(xp\u001b[38;5;241m.\u001b[39mSum(x) \u001b[38;5;241m==\u001b[39m d\u001b[38;5;241m*\u001b[39my \u001b[38;5;28;01mfor\u001b[39;00m m \u001b[38;5;129;01min\u001b[39;00m movies_small)\n\u001b[0;32m     36\u001b[0m \u001b[38;5;66;03m# end time\u001b[39;00m\n\u001b[0;32m     37\u001b[0m prob\u001b[38;5;241m.\u001b[39maddConstraint(e \u001b[38;5;241m==\u001b[39m t\u001b[38;5;241m*\u001b[39mxp\u001b[38;5;241m.\u001b[39mSum(x) \u001b[38;5;28;01mfor\u001b[39;00m m \u001b[38;5;129;01min\u001b[39;00m movies_small)\n",
      "Cell \u001b[1;32mIn[26], line 34\u001b[0m, in \u001b[0;36m<genexpr>\u001b[1;34m(.0)\u001b[0m\n\u001b[0;32m     31\u001b[0m T_end \u001b[38;5;241m=\u001b[39m \u001b[38;5;28mlen\u001b[39m(time_slots) \u001b[38;5;241m-\u001b[39m\u001b[38;5;241m1\u001b[39m \u001b[38;5;66;03m# last time slot index\u001b[39;00m\n\u001b[0;32m     33\u001b[0m \u001b[38;5;66;03m# movie duration \u001b[39;00m\n\u001b[1;32m---> 34\u001b[0m prob\u001b[38;5;241m.\u001b[39maddConstraint(xp\u001b[38;5;241m.\u001b[39mSum(x) \u001b[38;5;241m==\u001b[39m d\u001b[38;5;241m*\u001b[39my \u001b[38;5;28;01mfor\u001b[39;00m m \u001b[38;5;129;01min\u001b[39;00m movies_small)\n\u001b[0;32m     36\u001b[0m \u001b[38;5;66;03m# end time\u001b[39;00m\n\u001b[0;32m     37\u001b[0m prob\u001b[38;5;241m.\u001b[39maddConstraint(e \u001b[38;5;241m==\u001b[39m t\u001b[38;5;241m*\u001b[39mxp\u001b[38;5;241m.\u001b[39mSum(x) \u001b[38;5;28;01mfor\u001b[39;00m m \u001b[38;5;129;01min\u001b[39;00m movies_small)\n",
      "\u001b[1;31mTypeError\u001b[0m: unsupported operand type(s) for *: 'dict' and 'dict'"
     ]
    }
   ],
   "source": [
    "days = 2\n",
    "total_schedule = []\n",
    "for k in range(3): \n",
    "    T = range(k*33, (k+1)*33+1)\n",
    "\n",
    "    prob =  model(T,movies_small)\n",
    "    \n",
    "    prob.solve()\n",
    "    \n",
    "    scheduled_movies, used_movie_ids = get_sched(prob,movies_small)\n",
    "\n",
    "    for i in used_movie_ids:\n",
    "        movies_small.drop(i, inplace = True)\n",
    "    total_schedule.append(scheduled_movies)"
   ]
  },
  {
   "cell_type": "code",
   "execution_count": null,
   "id": "3f632bf2-a3fb-4fc5-b7a3-b3010667feab",
   "metadata": {},
   "outputs": [],
   "source": []
  },
  {
   "cell_type": "code",
   "execution_count": null,
   "id": "0091fb42-aaf4-41cc-b541-240a354f2d26",
   "metadata": {},
   "outputs": [],
   "source": []
  }
 ],
 "metadata": {
  "kernelspec": {
   "display_name": "Python 3 (ipykernel)",
   "language": "python",
   "name": "python3"
  },
  "language_info": {
   "codemirror_mode": {
    "name": "ipython",
    "version": 3
   },
   "file_extension": ".py",
   "mimetype": "text/x-python",
   "name": "python",
   "nbconvert_exporter": "python",
   "pygments_lexer": "ipython3",
   "version": "3.12.7"
  }
 },
 "nbformat": 4,
 "nbformat_minor": 5
}
